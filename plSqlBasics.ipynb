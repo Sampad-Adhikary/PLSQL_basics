{
 "cells": [
  {
   "cell_type": "code",
   "execution_count": 1,
   "metadata": {
    "vscode": {
     "languageId": "sql"
    }
   },
   "outputs": [
    {
     "name": "stdout",
     "output_type": "stream",
     "text": [
      "eb6935d01d958bc724ed2140f960dfddfa9a2b58129876b8778b889735afbfe7\n"
     ]
    }
   ],
   "source": [
    "%%bash\n",
    "docker run -d --rm --name mariadb-server -p 3306:3306 -e ALLOW_EMPTY_PASSWORD=yes bitnami/mariadb:latest"
   ]
  },
  {
   "cell_type": "code",
   "execution_count": 2,
   "metadata": {
    "vscode": {
     "languageId": "sql"
    }
   },
   "outputs": [
    {
     "name": "stdout",
     "output_type": "stream",
     "text": [
      "Docker version 24.0.6, build ed223bc\n"
     ]
    }
   ],
   "source": [
    "%%bash\n",
    "docker --version"
   ]
  },
  {
   "cell_type": "code",
   "execution_count": 3,
   "metadata": {
    "vscode": {
     "languageId": "sql"
    }
   },
   "outputs": [],
   "source": [
    "%%bash\n",
    "mysql -h localhost -u root -P 3306 --protocol=TCP -e \"CREATE DATABASE IF NOT EXISTS studentDB;\""
   ]
  },
  {
   "cell_type": "code",
   "execution_count": 4,
   "metadata": {
    "vscode": {
     "languageId": "sql"
    }
   },
   "outputs": [],
   "source": [
    "%%bash\n",
    "mysql -h localhost -u root -P 3306 --protocol=TCP studentDB -e \"SET SESSION sql_mode='ORACLE';\" < program1.sql"
   ]
  },
  {
   "cell_type": "code",
   "execution_count": 8,
   "metadata": {
    "vscode": {
     "languageId": "sql"
    }
   },
   "outputs": [
    {
     "name": "stdout",
     "output_type": "stream",
     "text": [
      "Overwriting start_plsql_session.sql\n"
     ]
    }
   ],
   "source": [
    "%%file start_plsql_session.sql\n",
    "SET SESSION sql_mode=ORACLE;"
   ]
  },
  {
   "cell_type": "code",
   "execution_count": 33,
   "metadata": {
    "vscode": {
     "languageId": "sql"
    }
   },
   "outputs": [
    {
     "name": "stderr",
     "output_type": "stream",
     "text": [
      "start_plsql_session.sql: line 1: SET: command not found\n"
     ]
    },
    {
     "ename": "CalledProcessError",
     "evalue": "Command 'b'./create_session.sh\\n'' returned non-zero exit status 127.",
     "output_type": "error",
     "traceback": [
      "\u001b[0;31m---------------------------------------------------------------------------\u001b[0m",
      "\u001b[0;31mCalledProcessError\u001b[0m                        Traceback (most recent call last)",
      "\u001b[1;32m/home/sampad031/PLSQL_basics/plSqlBasics.ipynb Cell 5\u001b[0m line \u001b[0;36m1\n\u001b[0;32m----> <a href='vscode-notebook-cell://wsl%2Bubuntu/home/sampad031/PLSQL_basics/plSqlBasics.ipynb#X20sdnNjb2RlLXJlbW90ZQ%3D%3D?line=0'>1</a>\u001b[0m get_ipython()\u001b[39m.\u001b[39mrun_cell_magic(\u001b[39m'\u001b[39m\u001b[39mbash\u001b[39m\u001b[39m'\u001b[39m, \u001b[39m'\u001b[39m\u001b[39m'\u001b[39m, \u001b[39m'\u001b[39m\u001b[39m./create_session.sh\u001b[39m\u001b[39m\\n\u001b[39;00m\u001b[39m'\u001b[39m)\n",
      "File \u001b[0;32m~/anaconda3/lib/python3.11/site-packages/IPython/core/interactiveshell.py:2493\u001b[0m, in \u001b[0;36mInteractiveShell.run_cell_magic\u001b[0;34m(self, magic_name, line, cell)\u001b[0m\n\u001b[1;32m   2491\u001b[0m \u001b[39mwith\u001b[39;00m \u001b[39mself\u001b[39m\u001b[39m.\u001b[39mbuiltin_trap:\n\u001b[1;32m   2492\u001b[0m     args \u001b[39m=\u001b[39m (magic_arg_s, cell)\n\u001b[0;32m-> 2493\u001b[0m     result \u001b[39m=\u001b[39m fn(\u001b[39m*\u001b[39margs, \u001b[39m*\u001b[39m\u001b[39m*\u001b[39mkwargs)\n\u001b[1;32m   2495\u001b[0m \u001b[39m# The code below prevents the output from being displayed\u001b[39;00m\n\u001b[1;32m   2496\u001b[0m \u001b[39m# when using magics with decorator @output_can_be_silenced\u001b[39;00m\n\u001b[1;32m   2497\u001b[0m \u001b[39m# when the last Python token in the expression is a ';'.\u001b[39;00m\n\u001b[1;32m   2498\u001b[0m \u001b[39mif\u001b[39;00m \u001b[39mgetattr\u001b[39m(fn, magic\u001b[39m.\u001b[39mMAGIC_OUTPUT_CAN_BE_SILENCED, \u001b[39mFalse\u001b[39;00m):\n",
      "File \u001b[0;32m~/anaconda3/lib/python3.11/site-packages/IPython/core/magics/script.py:154\u001b[0m, in \u001b[0;36mScriptMagics._make_script_magic.<locals>.named_script_magic\u001b[0;34m(line, cell)\u001b[0m\n\u001b[1;32m    152\u001b[0m \u001b[39melse\u001b[39;00m:\n\u001b[1;32m    153\u001b[0m     line \u001b[39m=\u001b[39m script\n\u001b[0;32m--> 154\u001b[0m \u001b[39mreturn\u001b[39;00m \u001b[39mself\u001b[39m\u001b[39m.\u001b[39mshebang(line, cell)\n",
      "File \u001b[0;32m~/anaconda3/lib/python3.11/site-packages/IPython/core/magics/script.py:314\u001b[0m, in \u001b[0;36mScriptMagics.shebang\u001b[0;34m(self, line, cell)\u001b[0m\n\u001b[1;32m    309\u001b[0m \u001b[39mif\u001b[39;00m args\u001b[39m.\u001b[39mraise_error \u001b[39mand\u001b[39;00m p\u001b[39m.\u001b[39mreturncode \u001b[39m!=\u001b[39m \u001b[39m0\u001b[39m:\n\u001b[1;32m    310\u001b[0m     \u001b[39m# If we get here and p.returncode is still None, we must have\u001b[39;00m\n\u001b[1;32m    311\u001b[0m     \u001b[39m# killed it but not yet seen its return code. We don't wait for it,\u001b[39;00m\n\u001b[1;32m    312\u001b[0m     \u001b[39m# in case it's stuck in uninterruptible sleep. -9 = SIGKILL\u001b[39;00m\n\u001b[1;32m    313\u001b[0m     rc \u001b[39m=\u001b[39m p\u001b[39m.\u001b[39mreturncode \u001b[39mor\u001b[39;00m \u001b[39m-\u001b[39m\u001b[39m9\u001b[39m\n\u001b[0;32m--> 314\u001b[0m     \u001b[39mraise\u001b[39;00m CalledProcessError(rc, cell)\n",
      "\u001b[0;31mCalledProcessError\u001b[0m: Command 'b'./create_session.sh\\n'' returned non-zero exit status 127."
     ]
    }
   ],
   "source": []
  },
  {
   "cell_type": "code",
   "execution_count": null,
   "metadata": {
    "vscode": {
     "languageId": "sql"
    }
   },
   "outputs": [],
   "source": [
    "%%file create_database.sql\n",
    "CREATE DATABASE studentDB;"
   ]
  },
  {
   "cell_type": "code",
   "execution_count": 5,
   "metadata": {
    "vscode": {
     "languageId": "sql"
    }
   },
   "outputs": [
    {
     "name": "stdout",
     "output_type": "stream",
     "text": [
      "Writing program_1.sql\n"
     ]
    }
   ],
   "source": [
    "%%file program_1.sql\n",
    "DECLARE\n",
    "    -- Declarations (optional)\n",
    "    var VARCHAR2(40) := 'Hello World'; -- Initialize the var variable\n",
    "BEGIN\n",
    "    -- Executable statements\n",
    "    -- SQL queries, procedural code\n",
    "    SELECT var; -- Print the value of var\n",
    "END;"
   ]
  },
  {
   "cell_type": "code",
   "execution_count": null,
   "metadata": {
    "vscode": {
     "languageId": "sql"
    }
   },
   "outputs": [],
   "source": [
    "%%file create_student.sql\n",
    "CREATE TABLE Student (Name VARCHAR(50), marks INT);"
   ]
  },
  {
   "cell_type": "code",
   "execution_count": null,
   "metadata": {
    "vscode": {
     "languageId": "sql"
    }
   },
   "outputs": [],
   "source": [
    "%%file program_2.sql\n",
    "DECLARE\n",
    "    student1_name VARCHAR(50);   -- Variable for the first student's name\n",
    "    student2_name VARCHAR(50);   -- Variable for the second student's name\n",
    "    student1_marks INT;         -- Variable for the first student's marks\n",
    "    student2_marks INT;         -- Variable for the second student's marks\n",
    "BEGIN\n",
    "    -- Assign values to student variables\n",
    "    student1_name := 'John';     -- Assign the name 'John' to student1_name\n",
    "    student2_name := 'Jane';     -- Assign the name 'Jane' to student2_name\n",
    "    student1_marks := 75;    -- Assign the marks 75000 to student1_marks\n",
    "    student2_marks := 55;    -- Assign the marks 85000 to student2_marks\n",
    "    \n",
    "    -- Compare marks and insert the appropriate student data into the table\n",
    "    IF student1_marks > student2_marks THEN\n",
    "        INSERT INTO Student VALUES (student1_name, student1_marks); -- Insert John's data\n",
    "        SELECT student1_name;  -- Select and return student1_name if student1_marks > student2_marks\n",
    "    ELSE\n",
    "        INSERT INTO Student VALUES (student2_name, student2_marks); -- Insert Jane's data\n",
    "        SELECT student2_name;  -- Select and return student2_name if student2_marks >= student1_marks\n",
    "    END IF;\n",
    "    \n",
    "END;"
   ]
  },
  {
   "cell_type": "code",
   "execution_count": null,
   "metadata": {
    "vscode": {
     "languageId": "sql"
    }
   },
   "outputs": [],
   "source": [
    "%file show_student.sql\n",
    "SELECT * FROM Student;"
   ]
  },
  {
   "cell_type": "code",
   "execution_count": null,
   "metadata": {
    "vscode": {
     "languageId": "sql"
    }
   },
   "outputs": [],
   "source": [
    "%%file create_numbers.sql\n",
    "CREATE TABLE Numbers (Num INT);"
   ]
  },
  {
   "cell_type": "code",
   "execution_count": null,
   "metadata": {
    "vscode": {
     "languageId": "sql"
    }
   },
   "outputs": [],
   "source": [
    "%%file program_3.sql\n",
    "CREATE TABLE Numbers (Num INT); -- Create the Numbers table with one column named Num of type INT\n",
    "\n",
    "DECLARE\n",
    "   i INT;\n",
    "   j INT := 1;\n",
    "BEGIN\n",
    "   FOR i IN REVERSE 1..10 LOOP\n",
    "      INSERT INTO Numbers VALUES (i); -- Insert integers from 1 to 10 into the Numbers table\n",
    "   END LOOP;\n",
    "   WHILE j <= 10 LOOP\n",
    "      INSERT INTO Numbers VALUES (j); -- Insert integers from 11 to 20 into the Numbers table\n",
    "      j := j + 1; -- Increment i for the next iteration\n",
    "   END LOOP;\n",
    "END;"
   ]
  },
  {
   "cell_type": "code",
   "execution_count": null,
   "metadata": {
    "vscode": {
     "languageId": "sql"
    }
   },
   "outputs": [],
   "source": [
    "%%file show_numbers.sql\n",
    "SELECT * from Numbers;"
   ]
  },
  {
   "cell_type": "code",
   "execution_count": null,
   "metadata": {
    "vscode": {
     "languageId": "sql"
    }
   },
   "outputs": [],
   "source": [
    "%%file create_teacher_data.sql\n",
    "CREATE TABLE Teacher_Data(teacher_id INT, teacher_name VARCHAR(50), teacher_salary INT);\n",
    "INSERT INTO Teacher_Data VALUES(102,'John Doe',20000);\n",
    "INSERT INTO Teacher_Data VALUES(103,'Jane Doe',40000);\n",
    "INSERT INTO Teacher_Data VALUES(104,'Shawn Doe',60000);"
   ]
  },
  {
   "cell_type": "code",
   "execution_count": null,
   "metadata": {
    "vscode": {
     "languageId": "sql"
    }
   },
   "outputs": [],
   "source": [
    "%%file program_4.sql\n",
    "DECLARE\n",
    "   salary INT;\n",
    "   error_message VARCHAR(50);\n",
    "   error_message2 VARCHAR(50);\n",
    "BEGIN\n",
    "    error_message := 'No Data Found';\n",
    "    error_message2 := 'An Error Occurred';\n",
    "   -- Attempt to retrieve the salary of an teacher with teacher_id 101\n",
    "   SELECT teacher_salary INTO salary FROM Teacher_Data WHERE teacher_id = 101;\n",
    "    SELECT salary;\n",
    "EXCEPTION\n",
    "   WHEN NO_DATA_FOUND THEN\n",
    "      -- Handle no data found error\n",
    "      SELECT error_message;\n",
    "    WHEN OTHERS THEN\n",
    "        -- Handle all other errors\n",
    "        SELECT error_message2;\n",
    "END;"
   ]
  }
 ],
 "metadata": {
  "kernelspec": {
   "display_name": "base",
   "language": "python",
   "name": "python3"
  },
  "language_info": {
   "codemirror_mode": {
    "name": "ipython",
    "version": 3
   },
   "file_extension": ".py",
   "mimetype": "text/x-python",
   "name": "python",
   "nbconvert_exporter": "python",
   "pygments_lexer": "ipython3",
   "version": "3.11.5"
  },
  "orig_nbformat": 4
 },
 "nbformat": 4,
 "nbformat_minor": 2
}
